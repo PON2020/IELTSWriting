{
 "cells": [
  {
   "cell_type": "code",
   "execution_count": 16,
   "metadata": {
    "tags": []
   },
   "outputs": [],
   "source": [
    "import os\n",
    "os.environ[\"OPENAI_API_KEY\"] = \"\" "
   ]
  },
  {
   "cell_type": "code",
   "execution_count": 17,
   "metadata": {
    "tags": []
   },
   "outputs": [],
   "source": [
    "api_key = os.getenv(\"OPENAI_API_KEY\")"
   ]
  },
  {
   "cell_type": "code",
   "execution_count": 18,
   "metadata": {
    "tags": []
   },
   "outputs": [],
   "source": [
    "import openai\n",
    "\n",
    "# Ensure your API key is loaded into the environment\n",
    "api_key = os.getenv(\"OPENAI_API_KEY\")\n",
    "\n",
    "# Initialize the OpenAI API client\n",
    "openai.api_key = api_key\n"
   ]
  },
  {
   "cell_type": "code",
   "execution_count": 19,
   "metadata": {
    "tags": []
   },
   "outputs": [],
   "source": [
    "import pandas as pd\n",
    "import numpy as np\n",
    "import openai\n",
    "from sklearn.metrics import mean_squared_error\n",
    "from scipy.stats import pearsonr\n",
    "import matplotlib.pyplot as plt\n",
    "import re\n",
    "import logging\n",
    "import concurrent.futures\n",
    "from tqdm import tqdm  # Import tqdm for progress bar\n",
    "\n",
    "# Setup logging\n",
    "logging.basicConfig(filename='essay_scoring.log', level=logging.INFO, format='%(asctime)s:%(levelname)s:%(message)s')\n",
    "\n",
    "# Load the dataset\n",
    "data_path = 'cleandata_t2_no_examples_final.csv'  # Update the path accordingly\n",
    "dataframe = pd.read_csv(data_path)\n",
    "\n",
    "# Randomly select 700 rows from the dataset\n",
    "subset = dataframe.sample(n=400, random_state=42)\n",
    "\n",
    "# Define the prompt template\n",
    "prompt_template = \"\"\"\n",
    "Please act as an IELTS examiner and assess an essay according to the official scoring criteria. Consider task achievement, coherence and cohesion, lexical resource, and grammatical range and accuracy. Provide a score from 0 to 9 based on the band descriptors.\n",
    "\n",
    "Band descriptors:\n",
    "- Band 9 (Expert User): Fully developed response, sophisticated vocabulary and structures, no errors.\n",
    "- Band 8 (Very Good User): Well-developed, detailed, minor vocabulary and grammar errors.\n",
    "- Band 7 (Good User): Clear position throughout the response, with relevant ideas. Some errors that do not hinder communication, and good control over complex structures.\n",
    "- Band 6 (Competent User): Addresses the task with relevant main ideas, though some may lack development. Makes some errors that rarely reduce communication, uses both simple and complex sentence forms.\n",
    "- Band 5 (Modest User): Addresses the task only partially with limited main ideas. Frequent errors that may cause difficulty for the reader, limited vocabulary range.\n",
    "- Band 4 (Limited User): Minimal response to the task, unclear position. Frequent errors that may confuse the reader, very limited range of vocabulary and sentence structures.\n",
    "- Band 3 (Extremely Limited User): Does not adequately address any part of the task. Communication is often distorted by errors.\n",
    "- Band 2 (Intermittent User): Barely responds to the task, no clear position. Severe control issues with vocabulary and sentence structures.\n",
    "- Band 1 (Non User): Unrelated to the task, unable to communicate a clear message. Only isolated words correctly formed.\n",
    "- Band 0: Did not attempt the task.\n",
    "\n",
    "Please score the essay below and justify your choice based on how well it aligns with the descriptors.\n",
    "\n",
    "The prompt for the essay:\n",
    "{prompt_text}\n",
    "\n",
    "Essay Text:\n",
    "{essay_text}\n",
    "\n",
    "Expected response format: Score: [0-9] with justification.\n",
    "\"\"\""
   ]
  },
  {
   "cell_type": "code",
   "execution_count": 20,
   "metadata": {
    "tags": []
   },
   "outputs": [
    {
     "name": "stderr",
     "output_type": "stream",
     "text": [
      "Grading Essays: 100%|██████████| 400/400 [01:17<00:00,  5.16it/s]\n"
     ]
    },
    {
     "name": "stdout",
     "output_type": "stream",
     "text": [
      "Mean Squared Error: 1.27375\n",
      "Correlation between actual and predicted ratings: 0.7162679714258018\n"
     ]
    },
    {
     "data": {
      "image/png": "[encoded data removed]",
      "text/plain": [
       "<Figure size 720x432 with 1 Axes>"
      ]
     },
     "metadata": {
      "needs_background": "light"
     },
     "output_type": "display_data"
    },
    {
     "name": "stdout",
     "output_type": "stream",
     "text": [
      "Output saved with GPT ratings v3_40.\n"
     ]
    }
   ],
   "source": [
    " # Function to generate scores using GPT\n",
    "def generate_score(prompt, model=\"gpt-4o\", max_tokens=100):\n",
    "    try:\n",
    "        response = openai.ChatCompletion.create(\n",
    "            model=model,\n",
    "            messages=[\n",
    "                {\"role\": \"system\", \"content\": \"You are a well-trained IELTS examiner.\"},\n",
    "                {\"role\": \"user\", \"content\": prompt}\n",
    "            ],\n",
    "            max_tokens=max_tokens\n",
    "        )\n",
    "        output = response['choices'][0]['message']['content'].strip()\n",
    "        \n",
    "        # Use regex to find the first instance of a numerical score in the output\n",
    "        match = re.search(r'\\b(\\d+)\\b', output)\n",
    "        if match:\n",
    "            score = int(match.group(1))  # Convert the first numeric string found to an integer\n",
    "            # Ensure the score is within the valid range\n",
    "            if 0 <= score <= 9:\n",
    "                return score, output.replace(f\"Score: {score}\", \"\").strip()\n",
    "            else:\n",
    "                logging.warning(f\"Invalid score {score} found. Retrying...\")\n",
    "                return None, None\n",
    "        else:\n",
    "            logging.warning(\"No score found in output. Retrying...\")\n",
    "            return None, None\n",
    "    except Exception as e:\n",
    "        logging.error(f\"Error generating score: {e}\")\n",
    "        return None, None\n",
    "\n",
    "# Function to process each essay\n",
    "def process_essay(index, row, retries=3):\n",
    "    prompt = prompt_template.format(prompt_text=row['Question'], essay_text=row['Essay'])\n",
    "    for attempt in range(retries):\n",
    "        score1, _ = generate_score(prompt)\n",
    "        score2, _ = generate_score(prompt)\n",
    "        if score1 is not None and score2 is not None:\n",
    "            if abs(score1 - score2) <= 2:\n",
    "                mean_score = (score1 + score2) / 2\n",
    "                return index, mean_score, f\"Scores: {score1}, {score2}\"\n",
    "        logging.warning(f\"Scores {score1} and {score2} differed by more than 2. Retrying...\")\n",
    "    # If no valid score after retries, return None\n",
    "    return index, None, None\n",
    "\n",
    "# Add new columns for GPT ratings and justifications\n",
    "subset['gpt_rating'] = np.nan\n",
    "subset['justification'] = \"\"\n",
    "\n",
    "# Use ThreadPoolExecutor for parallel processing\n",
    "with concurrent.futures.ThreadPoolExecutor() as executor:\n",
    "    futures = [executor.submit(process_essay, index, row) for index, row in subset.iterrows()]\n",
    "    for future in tqdm(concurrent.futures.as_completed(futures), total=len(futures), desc=\"Grading Essays\"):\n",
    "        index, score, justification = future.result()\n",
    "        subset.at[index, 'gpt_rating'] = score\n",
    "        subset.at[index, 'justification'] = justification\n",
    "\n",
    "# Check for NaN values and handle them\n",
    "if subset['gpt_rating'].isna().any():\n",
    "    logging.warning(\"NaN values found in gpt_rating even after retries.\")\n",
    "    # Option: Drop rows with NaN values or handle them as needed\n",
    "    subset.dropna(subset=['gpt_rating'], inplace=True)\n",
    "\n",
    "# Convert columns to float if not already\n",
    "subset['Overall'] = subset['Overall'].astype(float)\n",
    "subset['gpt_rating'] = subset['gpt_rating'].astype(float)\n",
    "\n",
    "# Calculate and print the mean squared error to evaluate the model\n",
    "mse = mean_squared_error(subset['Overall'], subset['gpt_rating'])\n",
    "print(f\"Mean Squared Error: {mse}\")\n",
    "logging.info(f\"Mean Squared Error: {mse}\")\n",
    "\n",
    "# Optional: Calculate and print correlation for additional evaluation\n",
    "correlation = np.corrcoef(subset['Overall'], subset['gpt_rating'])[0, 1]\n",
    "print(f\"Correlation between actual and predicted ratings: {correlation}\")\n",
    "logging.info(f\"Correlation between actual and predicted ratings: {correlation}\")\n",
    "\n",
    "# Plotting the correlation\n",
    "plt.figure(figsize=(10, 6))\n",
    "plt.scatter(subset['Overall'], subset['gpt_rating'], alpha=0.6, color='blue')\n",
    "plt.title('Correlation between Actual Scores and GPT Ratings')\n",
    "plt.xlabel('Actual Scores')\n",
    "plt.ylabel('GPT Ratings')\n",
    "plt.grid(True)\n",
    "plt.show()\n",
    "\n",
    "# Save the subset with GPT ratings for further analysis\n",
    "subset.to_csv('output_with_gpt_ratings_v3_4o.csv', index=False)\n",
    "print(\"Output saved with GPT ratings v3_40.\")\n",
    "logging.info(\"Output saved with GPT ratings.\")"
   ]
  },
  {
   "cell_type": "code",
   "execution_count": null,
   "metadata": {},
   "outputs": [],
   "source": []
  }
 ],
 "metadata": {
  "kernelspec": {
   "display_name": "Python 3",
   "language": "python",
   "name": "python3"
  },
  "language_info": {
   "codemirror_mode": {
    "name": "ipython",
    "version": 3
   },
   "file_extension": ".py",
   "mimetype": "text/x-python",
   "name": "python",
   "nbconvert_exporter": "python",
   "pygments_lexer": "ipython3",
   "version": "3.7.6"
  }
 },
 "nbformat": 4,
 "nbformat_minor": 4
}
