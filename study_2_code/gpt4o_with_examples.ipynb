{
 "cells": [
  {
   "cell_type": "code",
   "execution_count": 12,
   "metadata": {
    "tags": []
   },
   "outputs": [],
   "source": [
    "import os\n",
    "os.environ[\"OPENAI_API_KEY\"] = \"\" "
   ]
  },
  {
   "cell_type": "code",
   "execution_count": 13,
   "metadata": {
    "tags": []
   },
   "outputs": [],
   "source": [
    "api_key = os.getenv(\"OPENAI_API_KEY\")"
   ]
  },
  {
   "cell_type": "code",
   "execution_count": 14,
   "metadata": {
    "tags": []
   },
   "outputs": [],
   "source": [
    "import openai\n",
    "\n",
    "# Ensure your API key is loaded into the environment\n",
    "api_key = os.getenv(\"OPENAI_API_KEY\")\n",
    "\n",
    "# Initialize the OpenAI API client\n",
    "openai.api_key = api_key\n"
   ]
  },
  {
   "cell_type": "code",
   "execution_count": 15,
   "metadata": {
    "tags": []
   },
   "outputs": [],
   "source": [
    "import pandas as pd\n",
    "import numpy as np\n",
    "import openai\n",
    "from sklearn.metrics import mean_squared_error\n",
    "from scipy.stats import pearsonr\n",
    "import matplotlib.pyplot as plt\n",
    "import re\n",
    "import logging\n",
    "import concurrent.futures\n",
    "from tqdm import tqdm  # Import tqdm for progress bar\n",
    "\n",
    "# Setup logging\n",
    "logging.basicConfig(filename='essay_scoring.log', level=logging.INFO, format='%(asctime)s:%(levelname)s:%(message)s')\n",
    "\n",
    "# Load the dataset\n",
    "data_path = 'cleandata_t2_no_examples_final.csv'  # Update the path accordingly\n",
    "dataframe = pd.read_csv(data_path)\n",
    "\n",
    "# Randomly select 700 rows from the dataset\n",
    "subset = dataframe.sample(n=400, random_state=42)\n",
    "\n",
    "# Define the prompt template\n",
    "prompt_template = \"\"\"\n",
    "Please act as an IELTS examiner and assess an essay according to the official scoring criteria. Consider task achievement, coherence and cohesion, lexical resource, and grammatical range and accuracy. Provide a score from 0 to 9 based on the band descriptors and example essays.\n",
    "\n",
    "Band descriptors:\n",
    "- Band 9 (Expert User): Fully developed response, sophisticated vocabulary and structures, no errors.\n",
    "- Band 8 (Very Good User): Well-developed, detailed, minor vocabulary and grammar errors.\n",
    "- Band 7 (Good User): Clear position throughout the response, with relevant ideas. Some errors that do not hinder communication, and good control over complex structures.\n",
    "- Band 6 (Competent User): Addresses the task with relevant main ideas, though some may lack development. Makes some errors that rarely reduce communication, uses both simple and complex sentence forms.\n",
    "- Band 5 (Modest User): Addresses the task only partially with limited main ideas. Frequent errors that may cause difficulty for the reader, limited vocabulary range.\n",
    "- Band 4 (Limited User): Minimal response to the task, unclear position. Frequent errors that may confuse the reader, very limited range of vocabulary and sentence structures.\n",
    "- Band 3 (Extremely Limited User): Does not adequately address any part of the task. Communication is often distorted by errors.\n",
    "- Band 2 (Intermittent User): Barely responds to the task, no clear position. Severe control issues with vocabulary and sentence structures.\n",
    "- Band 1 (Non User): Unrelated to the task, unable to communicate a clear message. Only isolated words correctly formed.\n",
    "- Band 0: Did not attempt the task.\n",
    "\n",
    "Example Essays:\n",
    "- Band 9 Essay: \"Some people today believe that it is acceptable to use physical force to discipline children, but others feel it is completely unacceptable.Discuss this view and give your opinion.Give reasons for your answer and include any relevant examples from your knowledge or experience. You should write at least 250 words.\n",
    "Punishing children with physical force, or corporal punishment as it is also called, is something that was accepted not so long ago and people over the age of forty may well remember it. Nowadays, however, corporal punishment is against the law in most countries and adults who practise it can be taken to court. Children are always a vulnerable group and they depend on adults for protection and education. Of course, part of the growing up process is testing and breaking boundaries and it is nearly always necessary to instill discipline on a child. Whether or not it is necessary to use physical force to do so can be a very emotive subject.Supporters of corporal punishment often defend their standpoint by explaining that the corporal punishment is not, or should not be, excessive. They do not argue that a child should be beaten severely until he or she is bruised or cut. They argue that just the infliction of mild pain causes effective discipline and also the fear that it might be applied. People who grew up experiencing it might offer this point of view.Those who oppose using physical force on a child would say that the vulnerability and innocence of a child means that force should never be used. Children need to trust adults and believe that no harm will come to them. Additionally, children learn from adults and it is argued that corporal punishment will only teach children that force is an answer to various problems. It is also claimed that corporal punishment has no added benefits over other forms of discipline that do not require physical force. Using it can cause psychological harm to children and should be classed as child abuse.Personally, I do not believe that limited use of forms of corporal punishment can cause harm, and a parent who administers a mild form of it to his or her child should not be subject to criminal proceedings. Nevertheless, I would not use it myself. I can also recognise the possibilities of adults who are not a child‚Äôs parents misusing corporal punishment. Therefore, I believe that on balance physical force to discipline children should not be permitted.\"\n",
    "- Band 8 Essay: \"Write about the following topic.An increasing number of people are choosing to have cosmetic surgery in order to improve their appearance. Why are more people choosing to have operation to change the way they look? Do you think this a positive or negative development?Give reasons for your answer and include any relevant examples from your own knowledge or experience.\n",
    "There is currently a contentious argument regarding the purpose of having cosmetic surgery since more and more people prefer to use this method to improve their appearance. Considering the factors that support the decision to choose this improvement method, there are various reasons which I will discuss in this essay. In terms of consequences, I personally believe that there is a positive development.\n",
    "It is the fact that people have a wide variety of rationales to have cosmetic surgery. An obvious example of this is that people can design their new appearance in the way they wish to be look like. This is because a doctor could perform modern medical techniques such as modifying bone at the patients‚Äô nose to change their real face, which natural face improvement cannot do. Another common reason is the increase in self-confidence. When people have plastic surgery, they tend to believe that their appearance will be more accepted by other people, helping them to feel more confident.\n",
    "Contemplating the effects of people who have plastic surgery, there are many vital advantages. A common criticism in favour of this is the rise in productivity in workplace. When people feel more confident as a result of having cosmetic surgery, they tend to be more courageous to communicate with people in other departments, leading to the increasing workflow between two teams. Another classic example is building more networking. This is because people who positively improve their appearance tend to attract other people‚Äôs attention. As a result, more and more people might want to know them.\n",
    "In conclusion, it is undeniable that cosmetic surgery could address people‚Äôs eagerness to have better appearance and be more confident, which, in my opinion, results in a positive consequence to both society and them. This is because they would have willingness to contact other people and draw other people‚Äôs attention to them, which could grow their connections.\"\n",
    "- Band 7 Essay: \"In many countries people increasingly talk about money (how much they earn or how much they pay for things in their daily conversations). Why? Is this a positive or negative development?\n",
    "Money can not buy happiness! Is one of the most famous sayings while talking about finances. It is argued that topics around money, wealth, and poverty are becoming dramatically more frequent between humans in different countries around the world. In my opinion, the extream part of it is a negative development; although, it has some positivities. I will address some of both sides in this essay.\n",
    "Talking about money during the major part of the day might make the person look stingy and this is an attitude that majority of the community would not like, thus, might effect on the person's social life. Moreover, having the same topic in mind all day might lead to an obsession, and as a result, this could lead to a depression because the person might not find the proper way to reach to the financial position that meets their satisfaction, which could lead to depression, or even worse such as going through illegal paths where it could destroy their lives entirely!\n",
    "Nevertheless, the person should be aware of his /her income and spendings and try to enhance their financial position to the best possible way. Also, the inflation that we are currently living and the noticable increase in prices could be a driver for people to talk about money more often.\n",
    "In conclusion, people should not be obssessed in money and to talk with everyone about it all the time. However, I believe that people should discuss this matter in order to benefit from each other, and to find more ways to enhance their quality of life.\"\n",
    "- Band 6 Essay: \"Write about the following topic.The most important function of music is that it helps people reduce stress. To what extent do you agree or disagree?Give reasons for your answer and include any relevant examples from your own knowledge or experience.\n",
    "Listening to music is a very relaxing excercise, for some people more that other. In my opinion, reducing people stress is music most important function. Weather playing music or listening to it, are both relaxing activities.\n",
    "Listening to music is very relaxing and it will help you reduce stress. One can listen to music at home or while doing outdoor activities like running or going to the gym. Listening to music after a long working day is a greate practice that will help you decrease stress. There are diferent types of music, some are belived to be more relaxing than others like classical music compare to rock and roll. Scientists have demostrated by several investigations that music helps people reduce stress, after listening to music people feel more calm and have more clear thoughts.\n",
    "Some people think that music most important function is not reducing stress , instead they found it superficial and distracting. They think other activities are better at reducing stress like yoga or playing sports. Not all people feel relax by listening to music, some may find it unconfortable or unnecessary.\n",
    "To summarise music most important function is that helps people reduce stress. Music as a tool for reducing stress can be used by listening to it at the end of your day or during it, this will help you overcome your weekly rutine. Classical music is recomended over several styles of music to be the more relaxing one. Listening to music can help you take better decisions and overcome dificult situations that could present in your daily rutine.\"\n",
    "- Band 5 Essay: \"Some people say free time activities for children should be organized by parents. Others say that children should be free to choose what they do in their free time. Discuss both views and give your opinion.\n",
    "What children like to do in free time ? All children have diffrent ideas and preferences. So that many parenets think what should they provide and organize for their kids or not.\n",
    "Children have free mind. Sometimes that make out of control their behaviours. In this modern world, we have so manyv tools to connect to out side of their world, for example internet, social network. If parents are not organised to kids's freet time, children have so many chance to take those tools. Not all internet stuffs are bad, but also there are lots of appropriate contents for kids around. Kids should be protected and orverviewed by parents or caregivers whatever they are doing. Moreover, if they are not controlled their free time by parents, kids never have limit of spending time for something they are into it. Time management is important for kids, free time shouldn't be until late night.\n",
    "On the other hand, what will be happned if parents don't organised their free time.\n",
    "Kids are using their imagination or ideas in their free time to play. There is no organising stuff from parents, so that they might try to find what they need and want to do. Therefore, they develop their indepndence and social skills.\n",
    "In my opinion, I think kids should be organised their free time by parents. Compared with both side of effect, I personally choose kids's safety rather than developping independence. Independence and social skills can develop in other situation also. Howevere, kids\"s safety cant choose\"\n",
    "- Band 4 Essay: \"Some people think that physical strength is important for success in sport, while other people think that mental strength is more important. Discuss both views and give your own opinion.\n",
    "Physical strength is the vital role of success in sport while other people think that mentally strong is much more important in the competitive sports. In my opinion, both are correct and to be able to strong people would do more exercises in their long life.\n",
    "On the one hand, people are more willing to suceess in the race of their games and sometimes failed. For the reasons of that they never thought that which would be the answer is that physically strength would give them to succeed in their pace of games and other sports they choice. For example, the more they do exercises before entering the match, the body will strong enough till the end of the contest. Then the succeed will come next of grasp.\n",
    "On the other hand, the mental strength would be the main strength and sources of succeed which is the beginning point of the contest. Not even enough the exercises of mind, people would not get the immense advances of win. It means that people's minds might to be whatever they lose in the math, they can get it and stand up right their pace. As long as they get this point of action into their mind, I believed that they are eagle to strong enough to be ready to their games and other atheletics. Moreover, when they practice before entering the space of match, the embedded mind would be the main sources of mental strength too. It gives them to the progress of steps and the successful way until the end of the sports.\n",
    "To wrap up, people should do more exercies and it will give them mentally and physically strong that I think. By doing both, the successful winner will become next and they will get a success in their tournament and will become a good competitior in the near future.\"\n",
    "- Band 3 Essay: \"Write about the following topic.Some people feel that manufacturers and supermarkets have the responsibility to reduce the amount of packaging of goods. Others argue that customers should avoid buying goods with a lot of packaging. Discuss both views and give your opinion.Give reasons for your answer and include any relevant examples from your own knowledge or experience.\n",
    "there is no deying the fact the main requirement of goods it is debatable these days , which some people think the goods it is duty of supermarket , while others believe that responsibility of customers and really we have take a strict way for this issue , in this essay will dicuss both of side and will draw my personal experience , in one hand talking the group of people which but the refer guilty for supermarket and industry , when the products setting in the shop they empleoy of supermarket the must packaing off the goods after that they but them in store , so that why some think tha because it is this esay way when we dealing this proplomitc instaed we aviod , on the other hand it is another story here which the concept it is the custromer halt cunsume buy numres of pack for illustrated the must bring while shopping pack and do not taking from store in , addition even if we forgeat when we geting ou\n",
    "\n",
    "Please score the essay below and justify your choice based on how well it aligns with the descriptors and example essays.\n",
    "\n",
    "The prompt for the essay:\n",
    "{prompt_text}\n",
    "\n",
    "Essay Text:\n",
    "{essay_text}\n",
    "\n",
    "Expected response format: Score: [0-9] with justification.\n",
    "\"\"\""
   ]
  },
  {
   "cell_type": "code",
   "execution_count": 16,
   "metadata": {
    "tags": []
   },
   "outputs": [
    {
     "name": "stderr",
     "output_type": "stream",
     "text": [
      "Grading Essays: 100%|██████████| 400/400 [01:42<00:00,  3.92it/s]\n"
     ]
    },
    {
     "name": "stdout",
     "output_type": "stream",
     "text": [
      "Mean Squared Error: 1.110625\n",
      "Correlation between actual and predicted ratings: 0.7063264672041857\n"
     ]
    },
    {
     "data": {
      "image/png": "[encoded data removed]",
      "text/plain": [
       "<Figure size 720x432 with 1 Axes>"
      ]
     },
     "metadata": {
      "needs_background": "light"
     },
     "output_type": "display_data"
    },
    {
     "name": "stdout",
     "output_type": "stream",
     "text": [
      "Output saved with GPT ratings v2_4o.\n"
     ]
    }
   ],
   "source": [
    " # Function to generate scores using GPT\n",
    "def generate_score(prompt, model=\"gpt-4o\", max_tokens=100):\n",
    "    try:\n",
    "        response = openai.ChatCompletion.create(\n",
    "            model=model,\n",
    "            messages=[\n",
    "                {\"role\": \"system\", \"content\": \"You are a well-trained IELTS examiner.\"},\n",
    "                {\"role\": \"user\", \"content\": prompt}\n",
    "            ],\n",
    "            max_tokens=max_tokens\n",
    "        )\n",
    "        output = response['choices'][0]['message']['content'].strip()\n",
    "        \n",
    "        # Use regex to find the first instance of a numerical score in the output\n",
    "        match = re.search(r'\\b(\\d+)\\b', output)\n",
    "        if match:\n",
    "            score = int(match.group(1))  # Convert the first numeric string found to an integer\n",
    "            # Ensure the score is within the valid range\n",
    "            if 0 <= score <= 9:\n",
    "                return score, output.replace(f\"Score: {score}\", \"\").strip()\n",
    "            else:\n",
    "                logging.warning(f\"Invalid score {score} found. Retrying...\")\n",
    "                return None, None\n",
    "        else:\n",
    "            logging.warning(\"No score found in output. Retrying...\")\n",
    "            return None, None\n",
    "    except Exception as e:\n",
    "        logging.error(f\"Error generating score: {e}\")\n",
    "        return None, None\n",
    "\n",
    "# Function to process each essay\n",
    "def process_essay(index, row, retries=3):\n",
    "    prompt = prompt_template.format(prompt_text=row['Question'], essay_text=row['Essay'])\n",
    "    for attempt in range(retries):\n",
    "        score1, _ = generate_score(prompt)\n",
    "        score2, _ = generate_score(prompt)\n",
    "        if score1 is not None and score2 is not None:\n",
    "            if abs(score1 - score2) <= 2:\n",
    "                mean_score = (score1 + score2) / 2\n",
    "                return index, mean_score, f\"Scores: {score1}, {score2}\"\n",
    "        logging.warning(f\"Scores {score1} and {score2} differed by more than 2. Retrying...\")\n",
    "    # If no valid score after retries, return None\n",
    "    return index, None, None\n",
    "\n",
    "# Add new columns for GPT ratings and justifications\n",
    "subset['gpt_rating'] = np.nan\n",
    "subset['justification'] = \"\"\n",
    "\n",
    "# Use ThreadPoolExecutor for parallel processing\n",
    "with concurrent.futures.ThreadPoolExecutor() as executor:\n",
    "    futures = [executor.submit(process_essay, index, row) for index, row in subset.iterrows()]\n",
    "    for future in tqdm(concurrent.futures.as_completed(futures), total=len(futures), desc=\"Grading Essays\"):\n",
    "        index, score, justification = future.result()\n",
    "        subset.at[index, 'gpt_rating'] = score\n",
    "        subset.at[index, 'justification'] = justification\n",
    "\n",
    "# Check for NaN values and handle them\n",
    "if subset['gpt_rating'].isna().any():\n",
    "    logging.warning(\"NaN values found in gpt_rating even after retries.\")\n",
    "    # Option: Drop rows with NaN values or handle them as needed\n",
    "    subset.dropna(subset=['gpt_rating'], inplace=True)\n",
    "\n",
    "# Convert columns to float if not already\n",
    "subset['Overall'] = subset['Overall'].astype(float)\n",
    "subset['gpt_rating'] = subset['gpt_rating'].astype(float)\n",
    "\n",
    "# Calculate and print the mean squared error to evaluate the model\n",
    "mse = mean_squared_error(subset['Overall'], subset['gpt_rating'])\n",
    "print(f\"Mean Squared Error: {mse}\")\n",
    "logging.info(f\"Mean Squared Error: {mse}\")\n",
    "\n",
    "# Optional: Calculate and print correlation for additional evaluation\n",
    "correlation = np.corrcoef(subset['Overall'], subset['gpt_rating'])[0, 1]\n",
    "print(f\"Correlation between actual and predicted ratings: {correlation}\")\n",
    "logging.info(f\"Correlation between actual and predicted ratings: {correlation}\")\n",
    "\n",
    "# Plotting the correlation\n",
    "plt.figure(figsize=(10, 6))\n",
    "plt.scatter(subset['Overall'], subset['gpt_rating'], alpha=0.6, color='blue')\n",
    "plt.title('Correlation between Actual Scores and GPT Ratings')\n",
    "plt.xlabel('Actual Scores')\n",
    "plt.ylabel('GPT Ratings')\n",
    "plt.grid(True)\n",
    "plt.show()\n",
    "\n",
    "# Save the subset with GPT ratings for further analysis\n",
    "subset.to_csv('output_with_gpt_ratings_v2_4o.csv', index=False)\n",
    "print(\"Output saved with GPT ratings v2_4o.\")\n",
    "logging.info(\"Output saved with GPT ratings.\")"
   ]
  },
  {
   "cell_type": "code",
   "execution_count": null,
   "metadata": {},
   "outputs": [],
   "source": []
  }
 ],
 "metadata": {
  "kernelspec": {
   "display_name": "Python 3",
   "language": "python",
   "name": "python3"
  },
  "language_info": {
   "codemirror_mode": {
    "name": "ipython",
    "version": 3
   },
   "file_extension": ".py",
   "mimetype": "text/x-python",
   "name": "python",
   "nbconvert_exporter": "python",
   "pygments_lexer": "ipython3",
   "version": "3.7.6"
  }
 },
 "nbformat": 4,
 "nbformat_minor": 4
}
